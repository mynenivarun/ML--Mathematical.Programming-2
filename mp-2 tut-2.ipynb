{
  "nbformat": 4,
  "nbformat_minor": 0,
  "metadata": {
    "colab": {
      "name": "190030025_MP-2_TUTORIAL-2",
      "provenance": []
    },
    "kernelspec": {
      "name": "python3",
      "display_name": "Python 3"
    }
  },
  "cells": [
    {
      "cell_type": "code",
      "metadata": {
        "id": "Q_x_FwOZNpOH",
        "colab": {
          "base_uri": "https://localhost:8080/"
        },
        "outputId": "c3cb9640-97dd-4636-b830-c2f493d010e3"
      },
      "source": [
        "import numpy as np\n",
        "def func(X):\n",
        "  x=X[0]\n",
        "  y=X[1]\n",
        "  L=X[2]\n",
        "  return 6*x**2+12*y**2-L*(x+y-90)\n",
        "def dfunc(X):\n",
        "  dLambda=np.zeros(len(X))\n",
        "  h=1e-3\n",
        "  for i in range(len(X)):\n",
        "      dX=np.zeros(len(X))\n",
        "      dX[i]=h\n",
        "      dLambda[i]=(func(X+dX)-func(X-dX))/2*h\n",
        "  return dLambda\n",
        "from scipy.optimize import fsolve\n",
        "X1=fsolve(dfunc,[1,1,0])\n",
        "print(X1,func(X1))\n",
        "X2=fsolve(dfunc,[-1,-1,0])\n",
        "print(X2,func(X2))\n"
      ],
      "execution_count": null,
      "outputs": [
        {
          "output_type": "stream",
          "text": [
            "[ 60.          30.         719.99999999] 32400.000000000004\n",
            "[ 60.  30. 720.] 32400.0\n"
          ],
          "name": "stdout"
        }
      ]
    },
    {
      "cell_type": "code",
      "metadata": {
        "id": "KVE_Na7pXwNl",
        "colab": {
          "base_uri": "https://localhost:8080/"
        },
        "outputId": "c70f3803-194b-42d2-9ef9-d82af318fb03"
      },
      "source": [
        "def knapSack(W, wt, val, n):\r\n",
        "    \r\n",
        "    K = [[0 for x in range(W + 1)] for x in range(n + 1)]\r\n",
        "\r\n",
        "# Build table K[][] in bottom up manner\r\n",
        "    for i in range(n + 1):\r\n",
        "        for w in range(W + 1):\r\n",
        "            if i == 0 or w == 0:\r\n",
        "                K[i][w] = 0\r\n",
        "            elif wt[i-1] <= w:\r\n",
        "                K[i][w] = max(val[i-1]\r\n",
        "                          + K[i-1][w-wt[i-1]],\r\n",
        "                             K[i-1][w])\r\n",
        "            else:\r\n",
        "               K[i][w] = K[i-1][w]\r\n",
        "\r\n",
        "    return K[n][W]\r\n",
        "\r\n",
        "\r\n",
        "# Driver code\r\n",
        "val = [16,22,12,8]\r\n",
        "wt = [5,7,4,3]\r\n",
        "W = 14\r\n",
        "n = len(val)\r\n",
        "print(knapSack(W, wt, val, n))"
      ],
      "execution_count": null,
      "outputs": [
        {
          "output_type": "stream",
          "text": [
            "42\n"
          ],
          "name": "stdout"
        }
      ]
    }
  ]
}