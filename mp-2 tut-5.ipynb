{
 "cells": [
  {
   "cell_type": "code",
   "execution_count": 1,
   "metadata": {},
   "outputs": [
    {
     "name": "stdout",
     "output_type": "stream",
     "text": [
      "Initial SSE objective:16.0\n",
      "Final SSE Objective : 19.486832956624884\n",
      "Solution\n",
      "x1 = 1.0\n",
      "x2 = 3.1622776604441314\n",
      "x3 = 4.99999999999961\n",
      "x4 = 1.5811388274303464\n",
      "Final SSE Objective: 19.486832956624884\n",
      "[1.         3.16227766 5.         1.58113883]\n"
     ]
    }
   ],
   "source": [
    "import numpy as np\n",
    "from scipy.optimize import minimize\n",
    "\n",
    "def objective(x):\n",
    "    return x[0]*x[3]*(x[0]+x[1]+x[2])+x[2]\n",
    "def constraint1(x):\n",
    "    return x[0]*x[1]*x[2]*x[3]-25.0\n",
    "def constraint2(x):\n",
    "    sum_eq=40.0\n",
    "    for i in range(4):\n",
    "        sum_eq=sum_eq-x[1]**2\n",
    "    return sum_eq\n",
    "\n",
    "n=4\n",
    "x0=np.zeros(n)\n",
    "x0[0]=1.0\n",
    "x0[1]=5.0\n",
    "x0[2]=5.0\n",
    "x0[3]=1.0\n",
    "print('Initial SSE objective:'+str(objective(x0)))\n",
    "b=(1.0,5.0)\n",
    "bnds=(b,b,b,b)\n",
    "con1={'type':'ineq','fun':constraint1}\n",
    "con2={'type':'eq','fun':constraint2}\n",
    "cons=([con1,con2])\n",
    "solution=minimize(objective,x0,method='SLSQP',bounds=bnds,constraints=cons)\n",
    "x=solution.x\n",
    "print('Final SSE Objective : '+str(objective(x)))\n",
    "print('Solution')\n",
    "print('x1 = '+str(x[0]))\n",
    "print('x2 = '+str(x[1]))\n",
    "print('x3 = '+str(x[2]))\n",
    "print('x4 = '+str(x[3]))\n",
    "\n",
    "print('Final SSE Objective: ' + str(objective(x)))\n",
    "\n",
    "# optimize\n",
    "b = (1.0,5.0)\n",
    "bnds = (b, b, b, b)\n",
    "con1 = {'type': 'ineq', 'fun': constraint1} \n",
    "con2 = {'type': 'eq', 'fun': constraint2}\n",
    "cons = ([con1,con2])\n",
    "solution = minimize(objective,x0,method='SLSQP',\\\n",
    "                    bounds=bnds, constraints=cons)\n",
    "x = solution.x\n",
    "print(x)\n",
    "\n",
    "\n"
   ]
  },
  {
   "cell_type": "code",
   "execution_count": null,
   "metadata": {},
   "outputs": [],
   "source": []
  }
 ],
 "metadata": {
  "kernelspec": {
   "display_name": "Python 3",
   "language": "python",
   "name": "python3"
  },
  "language_info": {
   "codemirror_mode": {
    "name": "ipython",
    "version": 3
   },
   "file_extension": ".py",
   "mimetype": "text/x-python",
   "name": "python",
   "nbconvert_exporter": "python",
   "pygments_lexer": "ipython3",
   "version": "3.8.3"
  }
 },
 "nbformat": 4,
 "nbformat_minor": 4
}
