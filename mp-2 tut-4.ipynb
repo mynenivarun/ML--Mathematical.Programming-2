{
 "cells": [
  {
   "cell_type": "code",
   "execution_count": 5,
   "metadata": {},
   "outputs": [
    {
     "name": "stdout",
     "output_type": "stream",
     "text": [
      "Distance of vertex 0 from the source is 0.It's path is [0 ]\n",
      "Distance of vertex 1 from the source is -1.It's path is [0 1 ]\n",
      "Distance of vertex 2 from the source is 2.It's path is [0 1 2 ]\n",
      "Distance of vertex 3 from the source is -2.It's path is [0 1 4 3 ]\n",
      "Distance of vertex 4 from the source is 1.It's path is [0 1 4 ]\n"
     ]
    }
   ],
   "source": [
    "def printPath(parent,vertex):\n",
    "    if vertex<0:\n",
    "        return\n",
    "    \n",
    "    printPath(parent,parent[vertex])\n",
    "    print(vertex,end=' ')\n",
    "    \n",
    "    \n",
    "def bellamFord(edges,source,N):\n",
    "    \n",
    "    distance=[float('inf')]*N\n",
    "    parent=[-1]*N\n",
    "    \n",
    "    distance[source]=0\n",
    "    \n",
    "    \n",
    "    for k in range(N-1):\n",
    "        for(u,v,w) in edges:\n",
    "            if distance[u]+w<distance[v]:\n",
    "                distance[v]=distance[u]+w\n",
    "                parent[v]=u\n",
    "        \n",
    "        \n",
    "    for(u,v,w)in edges:\n",
    "            \n",
    "        if distance[u] +w < distance[v]:\n",
    "            print(\"Nagative Weight Cycle Found : !\")\n",
    "            return\n",
    "    for i in range(N):\n",
    "        print(\"Distance of vertex\",i,\"from the source is\",distance[i],end='.')\n",
    "        print(\"It's path is [\",end='')\n",
    "        printPath(parent,i)\n",
    "        print(\"]\")\n",
    "            \n",
    "            \n",
    "if __name__=='__main__':\n",
    "    edges=[(0,1,-1),(0,2,4),(1,2,3),(1,3,2),(1,4,2),(3,2,5),(3,1,1),(4,3,-3)]\n",
    "    N=5\n",
    "    source=0\n",
    "    bellamFord(edges,source,N)\n",
    "    "
   ]
  },
  {
   "cell_type": "code",
   "execution_count": null,
   "metadata": {},
   "outputs": [],
   "source": []
  }
 ],
 "metadata": {
  "kernelspec": {
   "display_name": "Python 3",
   "language": "python",
   "name": "python3"
  },
  "language_info": {
   "codemirror_mode": {
    "name": "ipython",
    "version": 3
   },
   "file_extension": ".py",
   "mimetype": "text/x-python",
   "name": "python",
   "nbconvert_exporter": "python",
   "pygments_lexer": "ipython3",
   "version": "3.8.3"
  }
 },
 "nbformat": 4,
 "nbformat_minor": 4
}
